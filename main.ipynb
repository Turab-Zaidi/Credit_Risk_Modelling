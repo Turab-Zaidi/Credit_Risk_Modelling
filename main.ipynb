{
 "cells": [
  {
   "cell_type": "code",
   "execution_count": 239,
   "metadata": {},
   "outputs": [],
   "source": [
    "import pandas as pd\n",
    "import matplotlib.pyplot as plt\n",
    "from sklearn.model_selection import train_test_split ,KFold, cross_val_score\n",
    "from sklearn.impute import SimpleImputer\n",
    "from sklearn.preprocessing import OneHotEncoder,LabelEncoder,OrdinalEncoder,MinMaxScaler\n",
    "from sklearn.pipeline import Pipeline\n",
    "from sklearn.compose import ColumnTransformer\n",
    "\n",
    "from sklearn.linear_model import LogisticRegression\n",
    "\n",
    "from sklearn.neighbors import KNeighborsClassifier\n",
    "\n",
    "from sklearn.naive_bayes import GaussianNB\n",
    "from sklearn.ensemble import RandomForestClassifier\n",
    "\n",
    "from xgboost import XGBClassifier\n",
    "from sklearn.metrics import classification_report\n",
    "\n",
    "\n",
    "\n",
    "\n"
   ]
  },
  {
   "cell_type": "code",
   "execution_count": 240,
   "metadata": {},
   "outputs": [
    {
     "data": {
      "text/html": [
       "<div>\n",
       "<style scoped>\n",
       "    .dataframe tbody tr th:only-of-type {\n",
       "        vertical-align: middle;\n",
       "    }\n",
       "\n",
       "    .dataframe tbody tr th {\n",
       "        vertical-align: top;\n",
       "    }\n",
       "\n",
       "    .dataframe thead th {\n",
       "        text-align: right;\n",
       "    }\n",
       "</style>\n",
       "<table border=\"1\" class=\"dataframe\">\n",
       "  <thead>\n",
       "    <tr style=\"text-align: right;\">\n",
       "      <th></th>\n",
       "      <th>Unnamed: 0</th>\n",
       "      <th>Age</th>\n",
       "      <th>Sex</th>\n",
       "      <th>Job</th>\n",
       "      <th>Housing</th>\n",
       "      <th>Saving accounts</th>\n",
       "      <th>Checking account</th>\n",
       "      <th>Credit amount</th>\n",
       "      <th>Duration</th>\n",
       "      <th>Purpose</th>\n",
       "      <th>Risk</th>\n",
       "    </tr>\n",
       "  </thead>\n",
       "  <tbody>\n",
       "    <tr>\n",
       "      <th>0</th>\n",
       "      <td>0</td>\n",
       "      <td>67</td>\n",
       "      <td>male</td>\n",
       "      <td>2</td>\n",
       "      <td>own</td>\n",
       "      <td>NaN</td>\n",
       "      <td>little</td>\n",
       "      <td>1169</td>\n",
       "      <td>6</td>\n",
       "      <td>radio/TV</td>\n",
       "      <td>good</td>\n",
       "    </tr>\n",
       "    <tr>\n",
       "      <th>1</th>\n",
       "      <td>1</td>\n",
       "      <td>22</td>\n",
       "      <td>female</td>\n",
       "      <td>2</td>\n",
       "      <td>own</td>\n",
       "      <td>little</td>\n",
       "      <td>moderate</td>\n",
       "      <td>5951</td>\n",
       "      <td>48</td>\n",
       "      <td>radio/TV</td>\n",
       "      <td>bad</td>\n",
       "    </tr>\n",
       "    <tr>\n",
       "      <th>2</th>\n",
       "      <td>2</td>\n",
       "      <td>49</td>\n",
       "      <td>male</td>\n",
       "      <td>1</td>\n",
       "      <td>own</td>\n",
       "      <td>little</td>\n",
       "      <td>NaN</td>\n",
       "      <td>2096</td>\n",
       "      <td>12</td>\n",
       "      <td>education</td>\n",
       "      <td>good</td>\n",
       "    </tr>\n",
       "    <tr>\n",
       "      <th>3</th>\n",
       "      <td>3</td>\n",
       "      <td>45</td>\n",
       "      <td>male</td>\n",
       "      <td>2</td>\n",
       "      <td>free</td>\n",
       "      <td>little</td>\n",
       "      <td>little</td>\n",
       "      <td>7882</td>\n",
       "      <td>42</td>\n",
       "      <td>furniture/equipment</td>\n",
       "      <td>good</td>\n",
       "    </tr>\n",
       "    <tr>\n",
       "      <th>4</th>\n",
       "      <td>4</td>\n",
       "      <td>53</td>\n",
       "      <td>male</td>\n",
       "      <td>2</td>\n",
       "      <td>free</td>\n",
       "      <td>little</td>\n",
       "      <td>little</td>\n",
       "      <td>4870</td>\n",
       "      <td>24</td>\n",
       "      <td>car</td>\n",
       "      <td>bad</td>\n",
       "    </tr>\n",
       "  </tbody>\n",
       "</table>\n",
       "</div>"
      ],
      "text/plain": [
       "   Unnamed: 0  Age     Sex  Job Housing Saving accounts Checking account  \\\n",
       "0           0   67    male    2     own             NaN           little   \n",
       "1           1   22  female    2     own          little         moderate   \n",
       "2           2   49    male    1     own          little              NaN   \n",
       "3           3   45    male    2    free          little           little   \n",
       "4           4   53    male    2    free          little           little   \n",
       "\n",
       "   Credit amount  Duration              Purpose  Risk  \n",
       "0           1169         6             radio/TV  good  \n",
       "1           5951        48             radio/TV   bad  \n",
       "2           2096        12            education  good  \n",
       "3           7882        42  furniture/equipment  good  \n",
       "4           4870        24                  car   bad  "
      ]
     },
     "execution_count": 240,
     "metadata": {},
     "output_type": "execute_result"
    }
   ],
   "source": [
    "dataset  =  pd.read_csv('german_credit_data (1).csv')\n",
    "dataset.head(5)\n"
   ]
  },
  {
   "cell_type": "code",
   "execution_count": 241,
   "metadata": {},
   "outputs": [],
   "source": [
    "dataset.drop('Unnamed: 0',axis=1,inplace=True)"
   ]
  },
  {
   "cell_type": "code",
   "execution_count": 242,
   "metadata": {},
   "outputs": [
    {
     "data": {
      "text/html": [
       "<div>\n",
       "<style scoped>\n",
       "    .dataframe tbody tr th:only-of-type {\n",
       "        vertical-align: middle;\n",
       "    }\n",
       "\n",
       "    .dataframe tbody tr th {\n",
       "        vertical-align: top;\n",
       "    }\n",
       "\n",
       "    .dataframe thead th {\n",
       "        text-align: right;\n",
       "    }\n",
       "</style>\n",
       "<table border=\"1\" class=\"dataframe\">\n",
       "  <thead>\n",
       "    <tr style=\"text-align: right;\">\n",
       "      <th></th>\n",
       "      <th>Saving accounts</th>\n",
       "      <th>Job</th>\n",
       "      <th>Housing</th>\n",
       "      <th>Checking account</th>\n",
       "      <th>Purpose</th>\n",
       "    </tr>\n",
       "  </thead>\n",
       "  <tbody>\n",
       "    <tr>\n",
       "      <th>0</th>\n",
       "      <td>[nan, little, quite rich, rich, moderate]</td>\n",
       "      <td>[2, 1, 3, 0]</td>\n",
       "      <td>[own, free, rent]</td>\n",
       "      <td>[little, moderate, nan, rich]</td>\n",
       "      <td>[radio/TV, education, furniture/equipment, car...</td>\n",
       "    </tr>\n",
       "    <tr>\n",
       "      <th>1</th>\n",
       "      <td>4</td>\n",
       "      <td>4</td>\n",
       "      <td>3</td>\n",
       "      <td>3</td>\n",
       "      <td>8</td>\n",
       "    </tr>\n",
       "  </tbody>\n",
       "</table>\n",
       "</div>"
      ],
      "text/plain": [
       "                             Saving accounts           Job            Housing  \\\n",
       "0  [nan, little, quite rich, rich, moderate]  [2, 1, 3, 0]  [own, free, rent]   \n",
       "1                                          4             4                  3   \n",
       "\n",
       "                Checking account  \\\n",
       "0  [little, moderate, nan, rich]   \n",
       "1                              3   \n",
       "\n",
       "                                             Purpose  \n",
       "0  [radio/TV, education, furniture/equipment, car...  \n",
       "1                                                  8  "
      ]
     },
     "execution_count": 242,
     "metadata": {},
     "output_type": "execute_result"
    }
   ],
   "source": [
    "dataset[['Saving accounts', 'Job', 'Housing','Checking account','Purpose']].apply(lambda x: (x.unique(), x.nunique()))"
   ]
  },
  {
   "cell_type": "code",
   "execution_count": 243,
   "metadata": {},
   "outputs": [
    {
     "name": "stdout",
     "output_type": "stream",
     "text": [
      "<class 'pandas.core.frame.DataFrame'>\n",
      "RangeIndex: 1000 entries, 0 to 999\n",
      "Data columns (total 10 columns):\n",
      " #   Column            Non-Null Count  Dtype \n",
      "---  ------            --------------  ----- \n",
      " 0   Age               1000 non-null   int64 \n",
      " 1   Sex               1000 non-null   object\n",
      " 2   Job               1000 non-null   int64 \n",
      " 3   Housing           1000 non-null   object\n",
      " 4   Saving accounts   817 non-null    object\n",
      " 5   Checking account  606 non-null    object\n",
      " 6   Credit amount     1000 non-null   int64 \n",
      " 7   Duration          1000 non-null   int64 \n",
      " 8   Purpose           1000 non-null   object\n",
      " 9   Risk              1000 non-null   object\n",
      "dtypes: int64(4), object(6)\n",
      "memory usage: 78.2+ KB\n"
     ]
    }
   ],
   "source": [
    "dataset.info()"
   ]
  },
  {
   "cell_type": "code",
   "execution_count": 244,
   "metadata": {},
   "outputs": [
    {
     "data": {
      "text/plain": [
       "Age                   0\n",
       "Sex                   0\n",
       "Job                   0\n",
       "Housing               0\n",
       "Saving accounts     183\n",
       "Checking account    394\n",
       "Credit amount         0\n",
       "Duration              0\n",
       "Purpose               0\n",
       "Risk                  0\n",
       "dtype: int64"
      ]
     },
     "execution_count": 244,
     "metadata": {},
     "output_type": "execute_result"
    }
   ],
   "source": [
    "dataset.isnull().sum()"
   ]
  },
  {
   "cell_type": "markdown",
   "metadata": {},
   "source": [
    "### We have a lot of values in savings and checking account column "
   ]
  },
  {
   "cell_type": "code",
   "execution_count": 245,
   "metadata": {},
   "outputs": [
    {
     "data": {
      "image/png": "[encoded data removed]",
      "text/plain": [
       "<Figure size 800x800 with 4 Axes>"
      ]
     },
     "metadata": {},
     "output_type": "display_data"
    }
   ],
   "source": [
    "cat_column = ['Sex','Job','Housing','Saving accounts']\n",
    "plt.figure(figsize=(8,8))\n",
    "a = 1\n",
    "for i in cat_column:\n",
    "    plt.subplot(2,2,a)\n",
    "    plt.bar(dataset[i].value_counts().index,dataset[i].value_counts().values,width=0.5)\n",
    "    plt.xlabel(i)\n",
    "    plt.ylabel('Count')\n",
    "    a += 1\n"
   ]
  },
  {
   "cell_type": "code",
   "execution_count": 246,
   "metadata": {},
   "outputs": [
    {
     "data": {
      "image/png": "[encoded data removed]",
      "text/plain": [
       "<Figure size 1000x600 with 1 Axes>"
      ]
     },
     "metadata": {},
     "output_type": "display_data"
    },
    {
     "data": {
      "image/png": "[encoded data removed]",
      "text/plain": [
       "<Figure size 1000x600 with 1 Axes>"
      ]
     },
     "metadata": {},
     "output_type": "display_data"
    },
    {
     "data": {
      "image/png": "[encoded data removed]",
      "text/plain": [
       "<Figure size 1000x600 with 1 Axes>"
      ]
     },
     "metadata": {},
     "output_type": "display_data"
    },
    {
     "data": {
      "image/png": "[encoded data removed]",
      "text/plain": [
       "<Figure size 1000x600 with 1 Axes>"
      ]
     },
     "metadata": {},
     "output_type": "display_data"
    }
   ],
   "source": [
    "for i in cat_column:\n",
    "    grouped_data = dataset.groupby([i, 'Risk']).size()\n",
    "    \n",
    "\n",
    "    col = sorted(dataset[i].fillna('NA').unique())\n",
    "    risks = sorted(dataset['Risk'].unique())\n",
    "\n",
    "\n",
    "    risk_counts = {job: [grouped_data.get((job, risk), 0) for risk in risks] for job in col}\n",
    "\n",
    "\n",
    "    num_bars = len(risks)\n",
    "\n",
    "\n",
    "    bar_width = 0.35\n",
    "\n",
    "\n",
    "    x = range(len(col))\n",
    "\n",
    "\n",
    "    fig, ax = plt.subplots(figsize=(10, 6))\n",
    "    for j in range(num_bars):\n",
    "        ax.bar([pos + j * bar_width for pos in x], [risk_counts[job][j] for job in col], bar_width, label=risks[j])\n",
    "\n",
    "    ax.set_xlabel(i)\n",
    "    ax.set_ylabel('Count')\n",
    "    ax.set_title(f'Count of {i} by Risk')\n",
    "    ax.set_xticks(x)\n",
    "    ax.set_xticklabels(col, rotation=45)\n",
    "    ax.legend()\n",
    "\n",
    "plt.show()"
   ]
  },
  {
   "cell_type": "markdown",
   "metadata": {},
   "source": [
    "#### Let's fill in the missing values first\n"
   ]
  },
  {
   "cell_type": "code",
   "execution_count": 247,
   "metadata": {},
   "outputs": [],
   "source": [
    "le = LabelEncoder()\n",
    "dataset['Risk']  = le.fit_transform(dataset['Risk'])"
   ]
  },
  {
   "cell_type": "code",
   "execution_count": 248,
   "metadata": {},
   "outputs": [
    {
     "data": {
      "text/html": [
       "<div>\n",
       "<style scoped>\n",
       "    .dataframe tbody tr th:only-of-type {\n",
       "        vertical-align: middle;\n",
       "    }\n",
       "\n",
       "    .dataframe tbody tr th {\n",
       "        vertical-align: top;\n",
       "    }\n",
       "\n",
       "    .dataframe thead th {\n",
       "        text-align: right;\n",
       "    }\n",
       "</style>\n",
       "<table border=\"1\" class=\"dataframe\">\n",
       "  <thead>\n",
       "    <tr style=\"text-align: right;\">\n",
       "      <th></th>\n",
       "      <th>Age</th>\n",
       "      <th>Sex</th>\n",
       "      <th>Job</th>\n",
       "      <th>Housing</th>\n",
       "      <th>Saving accounts</th>\n",
       "      <th>Checking account</th>\n",
       "      <th>Credit amount</th>\n",
       "      <th>Duration</th>\n",
       "      <th>Purpose</th>\n",
       "      <th>Risk</th>\n",
       "    </tr>\n",
       "  </thead>\n",
       "  <tbody>\n",
       "    <tr>\n",
       "      <th>0</th>\n",
       "      <td>67</td>\n",
       "      <td>male</td>\n",
       "      <td>2</td>\n",
       "      <td>own</td>\n",
       "      <td>NaN</td>\n",
       "      <td>little</td>\n",
       "      <td>1169</td>\n",
       "      <td>6</td>\n",
       "      <td>radio/TV</td>\n",
       "      <td>1</td>\n",
       "    </tr>\n",
       "    <tr>\n",
       "      <th>1</th>\n",
       "      <td>22</td>\n",
       "      <td>female</td>\n",
       "      <td>2</td>\n",
       "      <td>own</td>\n",
       "      <td>little</td>\n",
       "      <td>moderate</td>\n",
       "      <td>5951</td>\n",
       "      <td>48</td>\n",
       "      <td>radio/TV</td>\n",
       "      <td>0</td>\n",
       "    </tr>\n",
       "    <tr>\n",
       "      <th>2</th>\n",
       "      <td>49</td>\n",
       "      <td>male</td>\n",
       "      <td>1</td>\n",
       "      <td>own</td>\n",
       "      <td>little</td>\n",
       "      <td>NaN</td>\n",
       "      <td>2096</td>\n",
       "      <td>12</td>\n",
       "      <td>education</td>\n",
       "      <td>1</td>\n",
       "    </tr>\n",
       "    <tr>\n",
       "      <th>3</th>\n",
       "      <td>45</td>\n",
       "      <td>male</td>\n",
       "      <td>2</td>\n",
       "      <td>free</td>\n",
       "      <td>little</td>\n",
       "      <td>little</td>\n",
       "      <td>7882</td>\n",
       "      <td>42</td>\n",
       "      <td>furniture/equipment</td>\n",
       "      <td>1</td>\n",
       "    </tr>\n",
       "    <tr>\n",
       "      <th>4</th>\n",
       "      <td>53</td>\n",
       "      <td>male</td>\n",
       "      <td>2</td>\n",
       "      <td>free</td>\n",
       "      <td>little</td>\n",
       "      <td>little</td>\n",
       "      <td>4870</td>\n",
       "      <td>24</td>\n",
       "      <td>car</td>\n",
       "      <td>0</td>\n",
       "    </tr>\n",
       "  </tbody>\n",
       "</table>\n",
       "</div>"
      ],
      "text/plain": [
       "   Age     Sex  Job Housing Saving accounts Checking account  Credit amount  \\\n",
       "0   67    male    2     own             NaN           little           1169   \n",
       "1   22  female    2     own          little         moderate           5951   \n",
       "2   49    male    1     own          little              NaN           2096   \n",
       "3   45    male    2    free          little           little           7882   \n",
       "4   53    male    2    free          little           little           4870   \n",
       "\n",
       "   Duration              Purpose  Risk  \n",
       "0         6             radio/TV     1  \n",
       "1        48             radio/TV     0  \n",
       "2        12            education     1  \n",
       "3        42  furniture/equipment     1  \n",
       "4        24                  car     0  "
      ]
     },
     "execution_count": 248,
     "metadata": {},
     "output_type": "execute_result"
    }
   ],
   "source": [
    "dataset.head(5)"
   ]
  },
  {
   "cell_type": "code",
   "execution_count": 249,
   "metadata": {},
   "outputs": [],
   "source": [
    "X_train,X_test,y_train,y_test = train_test_split(dataset.drop(columns=['Risk']).reset_index(drop=True),dataset['Risk'],test_size = 0.2,random_state = 10)"
   ]
  },
  {
   "cell_type": "code",
   "execution_count": 250,
   "metadata": {},
   "outputs": [
    {
     "data": {
      "text/plain": [
       "((800, 9), (800,))"
      ]
     },
     "execution_count": 250,
     "metadata": {},
     "output_type": "execute_result"
    }
   ],
   "source": [
    "X_train.shape,y_train.shape"
   ]
  },
  {
   "cell_type": "code",
   "execution_count": 251,
   "metadata": {},
   "outputs": [
    {
     "data": {
      "text/html": [
       "<div>\n",
       "<style scoped>\n",
       "    .dataframe tbody tr th:only-of-type {\n",
       "        vertical-align: middle;\n",
       "    }\n",
       "\n",
       "    .dataframe tbody tr th {\n",
       "        vertical-align: top;\n",
       "    }\n",
       "\n",
       "    .dataframe thead th {\n",
       "        text-align: right;\n",
       "    }\n",
       "</style>\n",
       "<table border=\"1\" class=\"dataframe\">\n",
       "  <thead>\n",
       "    <tr style=\"text-align: right;\">\n",
       "      <th></th>\n",
       "      <th>Age</th>\n",
       "      <th>Sex</th>\n",
       "      <th>Job</th>\n",
       "      <th>Housing</th>\n",
       "      <th>Saving accounts</th>\n",
       "      <th>Checking account</th>\n",
       "      <th>Credit amount</th>\n",
       "      <th>Duration</th>\n",
       "      <th>Purpose</th>\n",
       "    </tr>\n",
       "  </thead>\n",
       "  <tbody>\n",
       "    <tr>\n",
       "      <th>188</th>\n",
       "      <td>20</td>\n",
       "      <td>male</td>\n",
       "      <td>2</td>\n",
       "      <td>own</td>\n",
       "      <td>moderate</td>\n",
       "      <td>little</td>\n",
       "      <td>674</td>\n",
       "      <td>12</td>\n",
       "      <td>radio/TV</td>\n",
       "    </tr>\n",
       "    <tr>\n",
       "      <th>194</th>\n",
       "      <td>21</td>\n",
       "      <td>male</td>\n",
       "      <td>2</td>\n",
       "      <td>rent</td>\n",
       "      <td>moderate</td>\n",
       "      <td>moderate</td>\n",
       "      <td>3031</td>\n",
       "      <td>45</td>\n",
       "      <td>radio/TV</td>\n",
       "    </tr>\n",
       "    <tr>\n",
       "      <th>225</th>\n",
       "      <td>27</td>\n",
       "      <td>male</td>\n",
       "      <td>2</td>\n",
       "      <td>own</td>\n",
       "      <td>little</td>\n",
       "      <td>NaN</td>\n",
       "      <td>2613</td>\n",
       "      <td>36</td>\n",
       "      <td>repairs</td>\n",
       "    </tr>\n",
       "    <tr>\n",
       "      <th>580</th>\n",
       "      <td>30</td>\n",
       "      <td>male</td>\n",
       "      <td>2</td>\n",
       "      <td>own</td>\n",
       "      <td>little</td>\n",
       "      <td>moderate</td>\n",
       "      <td>1056</td>\n",
       "      <td>18</td>\n",
       "      <td>car</td>\n",
       "    </tr>\n",
       "    <tr>\n",
       "      <th>428</th>\n",
       "      <td>20</td>\n",
       "      <td>male</td>\n",
       "      <td>2</td>\n",
       "      <td>own</td>\n",
       "      <td>little</td>\n",
       "      <td>NaN</td>\n",
       "      <td>1313</td>\n",
       "      <td>9</td>\n",
       "      <td>furniture/equipment</td>\n",
       "    </tr>\n",
       "  </tbody>\n",
       "</table>\n",
       "</div>"
      ],
      "text/plain": [
       "     Age   Sex  Job Housing Saving accounts Checking account  Credit amount  \\\n",
       "188   20  male    2     own        moderate           little            674   \n",
       "194   21  male    2    rent        moderate         moderate           3031   \n",
       "225   27  male    2     own          little              NaN           2613   \n",
       "580   30  male    2     own          little         moderate           1056   \n",
       "428   20  male    2     own          little              NaN           1313   \n",
       "\n",
       "     Duration              Purpose  \n",
       "188        12             radio/TV  \n",
       "194        45             radio/TV  \n",
       "225        36              repairs  \n",
       "580        18                  car  \n",
       "428         9  furniture/equipment  "
      ]
     },
     "execution_count": 251,
     "metadata": {},
     "output_type": "execute_result"
    }
   ],
   "source": [
    "X_train.head(5)"
   ]
  },
  {
   "cell_type": "code",
   "execution_count": 252,
   "metadata": {},
   "outputs": [],
   "source": [
    "trf1 = ColumnTransformer([\n",
    "    ('imputer',SimpleImputer(strategy='most_frequent'),[4,5]),\n",
    "    ('scaler',MinMaxScaler(),[0,6,7])    \n",
    "], remainder='passthrough')\n",
    "\n",
    "\n",
    "\n",
    "trf2 = ColumnTransformer([\n",
    "    ('transform3',OneHotEncoder(sparse_output=False,drop='first'),[5,7,8]),\n",
    "    ('transform1',OrdinalEncoder(categories=[['little','moderate','rich']]),[1]),\n",
    "    ('transform2',OrdinalEncoder(categories=[['little','moderate','quite rich','rich']]),[0]),\n",
    "],remainder='passthrough')"
   ]
  },
  {
   "cell_type": "code",
   "execution_count": 253,
   "metadata": {},
   "outputs": [
    {
     "name": "stdout",
     "output_type": "stream",
     "text": [
      "['moderate' 'little' 0.01785714285714285 0.0233300319137229\n",
      " 0.1176470588235294 'male' 2 'own' 'radio/TV']\n"
     ]
    }
   ],
   "source": [
    "X_train = trf1.fit_transform(X_train)\n",
    "print(X_train[0])\n",
    "X_train = trf2.fit_transform(X_train)"
   ]
  },
  {
   "cell_type": "code",
   "execution_count": 259,
   "metadata": {},
   "outputs": [
    {
     "data": {
      "text/plain": [
       "array([1.0, 1.0, 0.0, 0.0, 0.0, 0.0, 0.0, 1.0, 0.0, 0.0, 0.0, 1.0,\n",
       "       0.01785714285714285, 0.0233300319137229, 0.1176470588235294, 2],\n",
       "      dtype=object)"
      ]
     },
     "execution_count": 259,
     "metadata": {},
     "output_type": "execute_result"
    }
   ],
   "source": [
    "X_train[0]"
   ]
  },
  {
   "cell_type": "code",
   "execution_count": 254,
   "metadata": {},
   "outputs": [
    {
     "name": "stdout",
     "output_type": "stream",
     "text": [
      "['little' 'little' 0.17391304347826092 0.18381334810301853\n",
      " 0.3035714285714286 'male' 1 'own' 'car']\n"
     ]
    }
   ],
   "source": [
    "X_test = trf1.fit_transform(X_test)\n",
    "print(X_test[0])\n",
    "X_test = trf2.fit_transform(X_test)"
   ]
  },
  {
   "cell_type": "code",
   "execution_count": 255,
   "metadata": {},
   "outputs": [
    {
     "name": "stdout",
     "output_type": "stream",
     "text": [
      "LGR: 0.701250 \n",
      "              precision    recall  f1-score   support\n",
      "\n",
      "           0       0.75      0.19      0.31        62\n",
      "           1       0.73      0.97      0.83       138\n",
      "\n",
      "    accuracy                           0.73       200\n",
      "   macro avg       0.74      0.58      0.57       200\n",
      "weighted avg       0.73      0.73      0.67       200\n",
      "\n",
      "KNN: 0.653750 \n",
      "              precision    recall  f1-score   support\n",
      "\n",
      "           0       0.45      0.24      0.32        62\n",
      "           1       0.72      0.87      0.79       138\n",
      "\n",
      "    accuracy                           0.68       200\n",
      "   macro avg       0.59      0.56      0.55       200\n",
      "weighted avg       0.64      0.68      0.64       200\n",
      "\n",
      "NB: 0.656250 \n",
      "              precision    recall  f1-score   support\n",
      "\n",
      "           0       0.56      0.56      0.56        62\n",
      "           1       0.80      0.80      0.80       138\n",
      "\n",
      "    accuracy                           0.73       200\n",
      "   macro avg       0.68      0.68      0.68       200\n",
      "weighted avg       0.73      0.73      0.73       200\n",
      "\n",
      "RF: 0.700000 \n",
      "              precision    recall  f1-score   support\n",
      "\n",
      "           0       0.60      0.24      0.34        62\n",
      "           1       0.73      0.93      0.82       138\n",
      "\n",
      "    accuracy                           0.71       200\n",
      "   macro avg       0.67      0.58      0.58       200\n",
      "weighted avg       0.69      0.71      0.67       200\n",
      "\n",
      "XGBM: 0.671250 \n",
      "              precision    recall  f1-score   support\n",
      "\n",
      "           0       0.54      0.42      0.47        62\n",
      "           1       0.76      0.84      0.80       138\n",
      "\n",
      "    accuracy                           0.71       200\n",
      "   macro avg       0.65      0.63      0.64       200\n",
      "weighted avg       0.69      0.71      0.70       200\n",
      "\n"
     ]
    }
   ],
   "source": [
    "models = []\n",
    "models.append(('LGR', LogisticRegression()))\n",
    "models.append(('KNN', KNeighborsClassifier()))\n",
    "models.append(('NB', GaussianNB()))\n",
    "models.append(('RF', RandomForestClassifier()))\n",
    "models.append(('XGBM', XGBClassifier()))\n",
    "\n",
    "results = []\n",
    "names = []\n",
    "scoring = 'accuracy'\n",
    "\n",
    "for name, model in models:\n",
    "        kfold = KFold(n_splits=10, random_state=10, shuffle=True)\n",
    "        cv_results = cross_val_score(model, X_train, y_train, cv=kfold, scoring=scoring)\n",
    "        results.append(cv_results)\n",
    "        names.append(name)\n",
    "        msg = \"%s: %f \" % (name, cv_results.mean())\n",
    "\n",
    "        print(msg)\n",
    "\n",
    "        model.fit(X_train, y_train)\n",
    "\n",
    "        y_test_pred = model.predict(X_test)\n",
    "\n",
    "        print(classification_report(y_test, y_test_pred))\n",
    "    \n"
   ]
  },
  {
   "cell_type": "markdown",
   "metadata": {},
   "source": [
    "### Using neural networks"
   ]
  },
  {
   "cell_type": "code",
   "execution_count": 319,
   "metadata": {},
   "outputs": [],
   "source": [
    "import tensorflow as tf\n",
    "\n",
    "# Define the input shape\n",
    "input_shape = (16,)  \n",
    "\n",
    "\n",
    "model = tf.keras.Sequential()\n",
    "\n",
    "\n",
    "model.add(tf.keras.layers.Dense(1024, activation='relu', input_shape=input_shape))\n",
    "model.add(tf.keras.layers.Dense(512, activation='relu'))\n",
    "model.add(tf.keras.layers.Dropout(0.2))\n",
    "model.add(tf.keras.layers.Dense(512, activation='relu'))\n",
    "model.add(tf.keras.layers.Dense(256, activation='relu'))\n",
    "model.add(tf.keras.layers.Dense(128, activation='relu'))\n",
    "\n",
    "model.add(tf.keras.layers.Dropout(0.2))\n",
    "\n",
    "model.add(tf.keras.layers.Dense(64, activation='relu'))\n",
    "\n",
    "model.add(tf.keras.layers.Dense(1, activation='sigmoid'))"
   ]
  },
  {
   "cell_type": "code",
   "execution_count": 282,
   "metadata": {},
   "outputs": [],
   "source": [
    "X_train = X_train.astype('float32')\n",
    "X_test = X_test.astype('float32')"
   ]
  },
  {
   "cell_type": "code",
   "execution_count": 320,
   "metadata": {},
   "outputs": [
    {
     "name": "stdout",
     "output_type": "stream",
     "text": [
      "Model: \"sequential_12\"\n",
      "_________________________________________________________________\n",
      " Layer (type)                Output Shape              Param #   \n",
      "=================================================================\n",
      " dense_75 (Dense)            (None, 1024)              17408     \n",
      "                                                                 \n",
      " dense_76 (Dense)            (None, 512)               524800    \n",
      "                                                                 \n",
      " dropout_15 (Dropout)        (None, 512)               0         \n",
      "                                                                 \n",
      " dense_77 (Dense)            (None, 512)               262656    \n",
      "                                                                 \n",
      " dense_78 (Dense)            (None, 256)               131328    \n",
      "                                                                 \n",
      " dense_79 (Dense)            (None, 128)               32896     \n",
      "                                                                 \n",
      " dropout_16 (Dropout)        (None, 128)               0         \n",
      "                                                                 \n",
      " dense_80 (Dense)            (None, 64)                8256      \n",
      "                                                                 \n",
      " dense_81 (Dense)            (None, 1)                 65        \n",
      "                                                                 \n",
      "=================================================================\n",
      "Total params: 977409 (3.73 MB)\n",
      "Trainable params: 977409 (3.73 MB)\n",
      "Non-trainable params: 0 (0.00 Byte)\n",
      "_________________________________________________________________\n"
     ]
    }
   ],
   "source": [
    "model.compile(optimizer='adam',\n",
    "              loss='binary_crossentropy',\n",
    "              metrics=['accuracy'])\n",
    "\n",
    "model.summary()"
   ]
  },
  {
   "cell_type": "code",
   "execution_count": 322,
   "metadata": {},
   "outputs": [],
   "source": [
    "early_stopping_callback = tf.keras.callbacks.EarlyStopping(monitor='val_loss', patience=20, min_delta=0.01,restore_best_weights=True)"
   ]
  },
  {
   "cell_type": "code",
   "execution_count": 323,
   "metadata": {},
   "outputs": [
    {
     "name": "stdout",
     "output_type": "stream",
     "text": [
      "Epoch 1/50\n",
      "25/25 [==============================] - 3s 19ms/step - loss: 0.6227 - accuracy: 0.6812 - val_loss: 0.5992 - val_accuracy: 0.6900\n",
      "Epoch 2/50\n",
      "25/25 [==============================] - 0s 11ms/step - loss: 0.5942 - accuracy: 0.7025 - val_loss: 0.5602 - val_accuracy: 0.6900\n",
      "Epoch 3/50\n",
      "25/25 [==============================] - 1s 50ms/step - loss: 0.5856 - accuracy: 0.7025 - val_loss: 0.5552 - val_accuracy: 0.6900\n",
      "Epoch 4/50\n",
      "25/25 [==============================] - 1s 26ms/step - loss: 0.5807 - accuracy: 0.7025 - val_loss: 0.5730 - val_accuracy: 0.6900\n",
      "Epoch 5/50\n",
      "25/25 [==============================] - 0s 11ms/step - loss: 0.5820 - accuracy: 0.7025 - val_loss: 0.5827 - val_accuracy: 0.6900\n",
      "Epoch 6/50\n",
      "25/25 [==============================] - 0s 11ms/step - loss: 0.5785 - accuracy: 0.7025 - val_loss: 0.5573 - val_accuracy: 0.6900\n",
      "Epoch 7/50\n",
      "25/25 [==============================] - 0s 13ms/step - loss: 0.5603 - accuracy: 0.7013 - val_loss: 0.5526 - val_accuracy: 0.7100\n",
      "Epoch 8/50\n",
      "25/25 [==============================] - 0s 12ms/step - loss: 0.5730 - accuracy: 0.7013 - val_loss: 0.5435 - val_accuracy: 0.7350\n",
      "Epoch 9/50\n",
      "25/25 [==============================] - 0s 13ms/step - loss: 0.5562 - accuracy: 0.7225 - val_loss: 0.5617 - val_accuracy: 0.7050\n",
      "Epoch 10/50\n",
      "25/25 [==============================] - 0s 12ms/step - loss: 0.5370 - accuracy: 0.7237 - val_loss: 0.5770 - val_accuracy: 0.7000\n",
      "Epoch 11/50\n",
      "25/25 [==============================] - 0s 15ms/step - loss: 0.5408 - accuracy: 0.7312 - val_loss: 0.6132 - val_accuracy: 0.6800\n",
      "Epoch 12/50\n",
      "25/25 [==============================] - 0s 12ms/step - loss: 0.5269 - accuracy: 0.7450 - val_loss: 0.6078 - val_accuracy: 0.7150\n",
      "Epoch 13/50\n",
      "25/25 [==============================] - 0s 10ms/step - loss: 0.5283 - accuracy: 0.7462 - val_loss: 0.6658 - val_accuracy: 0.6850\n",
      "Epoch 14/50\n",
      "25/25 [==============================] - 0s 11ms/step - loss: 0.5322 - accuracy: 0.7412 - val_loss: 0.6013 - val_accuracy: 0.7150\n",
      "Epoch 15/50\n",
      "25/25 [==============================] - 0s 10ms/step - loss: 0.5088 - accuracy: 0.7675 - val_loss: 0.6438 - val_accuracy: 0.7050\n",
      "Epoch 16/50\n",
      "25/25 [==============================] - 0s 10ms/step - loss: 0.4966 - accuracy: 0.7613 - val_loss: 0.6513 - val_accuracy: 0.7050\n",
      "Epoch 17/50\n",
      "25/25 [==============================] - 0s 11ms/step - loss: 0.4972 - accuracy: 0.7613 - val_loss: 0.6799 - val_accuracy: 0.6700\n",
      "Epoch 18/50\n",
      "25/25 [==============================] - 0s 10ms/step - loss: 0.4912 - accuracy: 0.7613 - val_loss: 0.6498 - val_accuracy: 0.6900\n",
      "Epoch 19/50\n",
      "25/25 [==============================] - 0s 10ms/step - loss: 0.4863 - accuracy: 0.7525 - val_loss: 0.7083 - val_accuracy: 0.6800\n",
      "Epoch 20/50\n",
      "25/25 [==============================] - 0s 11ms/step - loss: 0.4666 - accuracy: 0.7775 - val_loss: 0.7876 - val_accuracy: 0.7000\n",
      "Epoch 21/50\n",
      "25/25 [==============================] - 0s 11ms/step - loss: 0.4578 - accuracy: 0.7800 - val_loss: 0.7618 - val_accuracy: 0.6850\n",
      "Epoch 22/50\n",
      "25/25 [==============================] - 0s 10ms/step - loss: 0.4491 - accuracy: 0.7837 - val_loss: 0.8510 - val_accuracy: 0.6800\n",
      "Epoch 23/50\n",
      "25/25 [==============================] - 0s 10ms/step - loss: 0.4468 - accuracy: 0.7875 - val_loss: 0.8732 - val_accuracy: 0.6850\n",
      "Epoch 24/50\n",
      "25/25 [==============================] - 0s 10ms/step - loss: 0.4253 - accuracy: 0.7987 - val_loss: 0.9394 - val_accuracy: 0.7300\n",
      "Epoch 25/50\n",
      "25/25 [==============================] - 0s 10ms/step - loss: 0.4501 - accuracy: 0.7850 - val_loss: 0.8214 - val_accuracy: 0.6850\n",
      "Epoch 26/50\n",
      "25/25 [==============================] - 0s 11ms/step - loss: 0.4067 - accuracy: 0.8075 - val_loss: 1.0369 - val_accuracy: 0.6500\n",
      "Epoch 27/50\n",
      "25/25 [==============================] - 0s 9ms/step - loss: 0.4234 - accuracy: 0.7962 - val_loss: 0.9205 - val_accuracy: 0.6450\n",
      "Epoch 28/50\n",
      "25/25 [==============================] - 0s 11ms/step - loss: 0.4102 - accuracy: 0.8225 - val_loss: 0.9552 - val_accuracy: 0.6800\n"
     ]
    },
    {
     "data": {
      "text/plain": [
       "<keras.src.callbacks.History at 0x2c3e9140510>"
      ]
     },
     "execution_count": 323,
     "metadata": {},
     "output_type": "execute_result"
    }
   ],
   "source": [
    "model.fit(X_train, y_train, epochs=50, validation_data=(X_test,y_test), batch_size=32, callbacks=[early_stopping_callback])"
   ]
  }
 ],
 "metadata": {
  "kernelspec": {
   "display_name": "Python 3",
   "language": "python",
   "name": "python3"
  },
  "language_info": {
   "codemirror_mode": {
    "name": "ipython",
    "version": 3
   },
   "file_extension": ".py",
   "mimetype": "text/x-python",
   "name": "python",
   "nbconvert_exporter": "python",
   "pygments_lexer": "ipython3",
   "version": "3.11.1"
  }
 },
 "nbformat": 4,
 "nbformat_minor": 2
}
